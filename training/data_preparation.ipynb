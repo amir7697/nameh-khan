{
 "cells": [
  {
   "cell_type": "markdown",
   "id": "d0b88df6-6592-4a73-b2e5-806efe635a90",
   "metadata": {},
   "source": [
    "# Import"
   ]
  },
  {
   "cell_type": "code",
   "execution_count": 1,
   "id": "51ae090e-87bc-4914-abfb-d02b1ee99ba0",
   "metadata": {},
   "outputs": [],
   "source": [
    "import ast\n",
    "import cv2 as cv\n",
    "import numpy as np\n",
    "import os\n",
    "import pandas as pd"
   ]
  },
  {
   "cell_type": "markdown",
   "id": "9a399f20-4d10-45aa-8ccb-2298c14439d9",
   "metadata": {},
   "source": [
    "# Config"
   ]
  },
  {
   "cell_type": "markdown",
   "id": "b6b0acf5-037e-4a57-ae78-29ca3f5cc99d",
   "metadata": {},
   "source": [
    "## Data Path"
   ]
  },
  {
   "cell_type": "code",
   "execution_count": 2,
   "id": "51e81d22-9760-4eb7-9920-017bc008d57f",
   "metadata": {},
   "outputs": [],
   "source": [
    "OUTPUT_ROOT_DIR = 'augmented-data'\n",
    "os.makedirs(OUTPUT_ROOT_DIR + '/images', exist_ok=True)\n",
    "\n",
    "IMAGE_PATH_TEMPLATE = 'raw-data/Arshasb_7k/{0:05d}/page_{0:05d}.png'\n",
    "LABEL_PATH_TEMPLATE = 'raw-data/Arshasb_7k/{0:05d}/label_{0:05d}.xlsx'\n",
    "\n",
    "OUTPUT_IMAGE_PATH = OUTPUT_ROOT_DIR + '/images/{}.png'\n",
    "OUTPUT_METADATA_PATH = OUTPUT_ROOT_DIR + '/metadata.csv'"
   ]
  },
  {
   "cell_type": "markdown",
   "id": "05b3dd01-24a7-478b-b017-042962ed59a7",
   "metadata": {},
   "source": [
    "# Main"
   ]
  },
  {
   "cell_type": "code",
   "execution_count": 3,
   "id": "f8551ab2-c846-4c56-86cc-af7fc43f90d0",
   "metadata": {},
   "outputs": [],
   "source": [
    "NUM_OF_PAGES = 6000\n",
    "dataset = []\n",
    "max_random_horizontal_shift_amount = 3\n",
    "max_random_vertical_shift_amount = 5\n",
    "\n",
    "for i in range(NUM_OF_PAGES):\n",
    "    image_path = IMAGE_PATH_TEMPLATE.format(i+1, i+1)\n",
    "    label_path = LABEL_PATH_TEMPLATE.format(i+1, i+1)\n",
    "\n",
    "    image = cv.imread(image_path, cv.IMREAD_GRAYSCALE)\n",
    "\n",
    "    label_pdf = pd.read_excel(label_path)\n",
    "    label_pdf.point1 = label_pdf.point1.apply(ast.literal_eval)\n",
    "    label_pdf.point2 = label_pdf.point2.apply(ast.literal_eval)\n",
    "    label_pdf.point3 = label_pdf.point3.apply(ast.literal_eval)\n",
    "    label_pdf.point4 = label_pdf.point4.apply(ast.literal_eval)\n",
    "\n",
    "    for row in label_pdf.iterrows():\n",
    "        dataset.append({\n",
    "            'label': row[1].word,\n",
    "            'image': image[\n",
    "                slice(\n",
    "                    row[1].point1[1] + np.random.randint(-max_random_vertical_shift_amount, max_random_vertical_shift_amount),\n",
    "                    row[1].point2[1] + np.random.randint(-max_random_vertical_shift_amount, max_random_vertical_shift_amount)\n",
    "                ), \n",
    "                slice(\n",
    "                    row[1].point1[0] + np.random.randint(-max_random_horizontal_shift_amount, max_random_horizontal_shift_amount),\n",
    "                    row[1].point3[0] + np.random.randint(-max_random_horizontal_shift_amount, max_random_horizontal_shift_amount)\n",
    "                )\n",
    "            ]\n",
    "        })\n",
    "\n",
    "metadata_dict = {'id': [], 'label': []}\n",
    "for i in range(len(dataset)):\n",
    "    if min(dataset[i]['image'].shape) > 0:\n",
    "        metadata_dict['id'].append(i)\n",
    "        metadata_dict['label'].append(dataset[i]['label'])\n",
    "        response = cv.imwrite(OUTPUT_IMAGE_PATH.format(i), dataset[i]['image'])\n",
    "        if not response:\n",
    "            print('Failure in writing image with label: {}'.format(dataset[i]['label']))\n",
    "\n",
    "metadata_pdf = pd.DataFrame(metadata_dict)\n",
    "metadata_pdf.to_csv(OUTPUT_METADATA_PATH, index=False)"
   ]
  }
 ],
 "metadata": {
  "kernelspec": {
   "display_name": "Python 3 (ipykernel)",
   "language": "python",
   "name": "python3"
  },
  "language_info": {
   "codemirror_mode": {
    "name": "ipython",
    "version": 3
   },
   "file_extension": ".py",
   "mimetype": "text/x-python",
   "name": "python",
   "nbconvert_exporter": "python",
   "pygments_lexer": "ipython3",
   "version": "3.9.12"
  }
 },
 "nbformat": 4,
 "nbformat_minor": 5
}
