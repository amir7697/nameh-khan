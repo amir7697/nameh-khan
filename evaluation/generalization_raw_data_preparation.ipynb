{
 "cells": [
  {
   "cell_type": "code",
   "execution_count": 7,
   "id": "b34a1101-4c95-4901-a32d-d0a76a576836",
   "metadata": {},
   "outputs": [],
   "source": [
    "import sys \n",
    "\n",
    "sys.path.append('../lib/nameh-khan')"
   ]
  },
  {
   "cell_type": "markdown",
   "id": "8aa5d7da-f8b4-4f79-a92e-0c690f2ba749",
   "metadata": {},
   "source": [
    "## Import "
   ]
  },
  {
   "cell_type": "code",
   "execution_count": 9,
   "id": "fc4dc111-c94e-42ca-afb0-23ed1266aa37",
   "metadata": {},
   "outputs": [],
   "source": [
    "import cv2\n",
    "import matplotlib.pyplot as plt\n",
    "import numpy as np \n",
    "import pandas as pd\n",
    "\n",
    "from nameh_khan.page_reader.utils.segmentation import SimpleSegmentation"
   ]
  },
  {
   "cell_type": "markdown",
   "id": "b141ff4e-a086-474b-8642-f4fcdfb26146",
   "metadata": {},
   "source": [
    "## Data Path"
   ]
  },
  {
   "cell_type": "code",
   "execution_count": 13,
   "id": "34a7a88f-5183-481a-bb30-6c32ab92f8fa",
   "metadata": {},
   "outputs": [],
   "source": [
    "DATASET_DIR = 'raw-dataset/nazanin/00001'\n",
    "\n",
    "RAW_IMAGE_PATH = '{}/page.png'.format(DATASET_DIR)\n",
    "RAW_LABEL_PATH = '{}/label.csv'.format(DATASET_DIR)"
   ]
  },
  {
   "cell_type": "markdown",
   "id": "b4a4fd2e-aae3-4c98-84d7-a6dfb5020c91",
   "metadata": {},
   "source": [
    "## Data Preparation "
   ]
  },
  {
   "cell_type": "code",
   "execution_count": 22,
   "id": "d57db6b3-af3f-4343-8dfc-a37af80beb04",
   "metadata": {
    "scrolled": true
   },
   "outputs": [],
   "source": [
    "image = cv2.imread(RAW_IMAGE_PATH, flags=cv2.IMREAD_GRAYSCALE)\n",
    "segmentation = SimpleSegmentation()\n",
    "box_locations = segmentation.transform(image)\n",
    "label_pdf = (\n",
    "    pd.DataFrame(box_locations)\n",
    "    .sort_values(by=['y1'], ascending=[True])\n",
    "    .assign(lineChange=lambda x: (x.y1 > x.y2.shift(1)).astype(int))\n",
    "    .assign(lineNumber=lambda x: x.lineChange.cumsum())\n",
    "    .assign(word = '')\n",
    "    .sort_values(by=['lineNumber', 'x2'], ascending=[True, False])\n",
    "    .reset_index(drop=True)\n",
    "    .loc[:, ['word', 'x1', 'y1', 'x2', 'y2']]\n",
    ")"
   ]
  },
  {
   "cell_type": "markdown",
   "id": "4f3a75cd-ead6-4970-b4d2-5075ec6644cf",
   "metadata": {},
   "source": [
    "## IO"
   ]
  },
  {
   "cell_type": "code",
   "execution_count": 24,
   "id": "b8ea8697-3a3d-48c0-b53a-9d06dd6c4088",
   "metadata": {},
   "outputs": [],
   "source": [
    "label_pdf.to_csv(RAW_LABEL_PATH, index=False)"
   ]
  }
 ],
 "metadata": {
  "kernelspec": {
   "display_name": "Python 3 (ipykernel)",
   "language": "python",
   "name": "python3"
  },
  "language_info": {
   "codemirror_mode": {
    "name": "ipython",
    "version": 3
   },
   "file_extension": ".py",
   "mimetype": "text/x-python",
   "name": "python",
   "nbconvert_exporter": "python",
   "pygments_lexer": "ipython3",
   "version": "3.9.12"
  }
 },
 "nbformat": 4,
 "nbformat_minor": 5
}
