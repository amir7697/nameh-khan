{
 "cells": [
  {
   "cell_type": "code",
   "execution_count": 1,
   "id": "b34a1101-4c95-4901-a32d-d0a76a576836",
   "metadata": {},
   "outputs": [],
   "source": [
    "import sys \n",
    "\n",
    "sys.path.append('../lib/nameh-khan')"
   ]
  },
  {
   "cell_type": "markdown",
   "id": "8aa5d7da-f8b4-4f79-a92e-0c690f2ba749",
   "metadata": {},
   "source": [
    "## Import "
   ]
  },
  {
   "cell_type": "code",
   "execution_count": 2,
   "id": "fc4dc111-c94e-42ca-afb0-23ed1266aa37",
   "metadata": {},
   "outputs": [],
   "source": [
    "import cv2\n",
    "import matplotlib.pyplot as plt\n",
    "import numpy as np \n",
    "import pandas as pd\n",
    "\n",
    "from nameh_khan.page_reader.utils.segmentation import SimpleSegmentation"
   ]
  },
  {
   "cell_type": "markdown",
   "id": "1f3739bc-7e57-42df-91d5-ebecd1cc9f07",
   "metadata": {},
   "source": [
    "## Config"
   ]
  },
  {
   "cell_type": "code",
   "execution_count": 3,
   "id": "8b2cdb42-e966-473a-bbd2-4c63df019290",
   "metadata": {},
   "outputs": [],
   "source": [
    "NUMBER_OF_PAGES = 20"
   ]
  },
  {
   "cell_type": "markdown",
   "id": "b141ff4e-a086-474b-8642-f4fcdfb26146",
   "metadata": {},
   "source": [
    "## Data Path"
   ]
  },
  {
   "cell_type": "code",
   "execution_count": 4,
   "id": "34a7a88f-5183-481a-bb30-6c32ab92f8fa",
   "metadata": {},
   "outputs": [],
   "source": [
    "DATASET_DIR_TEMPLATE = 'raw-dataset/zar/{0:05d}'\n",
    "\n",
    "RAW_IMAGE_PATH = '{}/page.png'.format(DATASET_DIR_TEMPLATE)\n",
    "RAW_LABEL_PATH = '{}/label.csv'.format(DATASET_DIR_TEMPLATE)"
   ]
  },
  {
   "cell_type": "markdown",
   "id": "b4a4fd2e-aae3-4c98-84d7-a6dfb5020c91",
   "metadata": {},
   "source": [
    "## Data Preparation "
   ]
  },
  {
   "cell_type": "code",
   "execution_count": 5,
   "id": "d57db6b3-af3f-4343-8dfc-a37af80beb04",
   "metadata": {
    "scrolled": true
   },
   "outputs": [],
   "source": [
    "for i in range(1, NUMBER_OF_PAGES+1):\n",
    "    image = cv2.imread(RAW_IMAGE_PATH.format(i), flags=cv2.IMREAD_GRAYSCALE)\n",
    "    segmentation = SimpleSegmentation()\n",
    "    box_locations = segmentation.transform(image)\n",
    "    label_pdf = (\n",
    "        pd.DataFrame(box_locations)\n",
    "        .sort_values(by=['y1'], ascending=[True])\n",
    "        .assign(lineChange=lambda x: (x.y1 > x.y2.shift(1)).astype(int))\n",
    "        .assign(lineNumber=lambda x: x.lineChange.cumsum())\n",
    "        .assign(word = '')\n",
    "        .sort_values(by=['lineNumber', 'x2'], ascending=[True, False])\n",
    "        .reset_index(drop=True)\n",
    "        .loc[:, ['word', 'x1', 'y1', 'x2', 'y2']]\n",
    "    )\n",
    "\n",
    "    label_pdf.to_csv(RAW_LABEL_PATH.format(i), index=False)"
   ]
  }
 ],
 "metadata": {
  "kernelspec": {
   "display_name": "Python 3 (ipykernel)",
   "language": "python",
   "name": "python3"
  },
  "language_info": {
   "codemirror_mode": {
    "name": "ipython",
    "version": 3
   },
   "file_extension": ".py",
   "mimetype": "text/x-python",
   "name": "python",
   "nbconvert_exporter": "python",
   "pygments_lexer": "ipython3",
   "version": "3.9.12"
  }
 },
 "nbformat": 4,
 "nbformat_minor": 5
}
