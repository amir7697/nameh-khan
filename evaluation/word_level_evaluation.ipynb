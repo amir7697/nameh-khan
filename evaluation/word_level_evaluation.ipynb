{
 "cells": [
  {
   "cell_type": "code",
   "execution_count": 1,
   "id": "4b0844f8-9e33-4a02-b693-2ac1c9056b9f",
   "metadata": {},
   "outputs": [],
   "source": [
    "import sys\n",
    "\n",
    "sys.path.append('../lib/nameh-khan')"
   ]
  },
  {
   "cell_type": "markdown",
   "id": "823ce5ad-15be-4c35-b5fa-1eb01318e607",
   "metadata": {},
   "source": [
    "## Import "
   ]
  },
  {
   "cell_type": "code",
   "execution_count": 2,
   "id": "cf498cd2-cc8b-4da7-9406-dd9b473ffd9a",
   "metadata": {},
   "outputs": [],
   "source": [
    "import cv2\n",
    "import pandas as pd\n",
    "import torch\n",
    "\n",
    "from nameh_khan.word_reader.model import WordReader"
   ]
  },
  {
   "cell_type": "markdown",
   "id": "31f97428-2ee6-4656-9bfa-9d4a6f7fd553",
   "metadata": {},
   "source": [
    "## Config"
   ]
  },
  {
   "cell_type": "code",
   "execution_count": 3,
   "id": "918248ea-debc-487e-b67f-4b862ecf8597",
   "metadata": {},
   "outputs": [],
   "source": [
    "NUM_OF_PAGES = 20\n",
    "FONT = 'nazanin'\n",
    "DEBUG = False"
   ]
  },
  {
   "cell_type": "markdown",
   "id": "135beb99-68e6-47ae-a3f7-81baf46b4324",
   "metadata": {},
   "source": [
    "## Data Path"
   ]
  },
  {
   "cell_type": "code",
   "execution_count": 4,
   "id": "260a8126-b7c4-4bb3-91eb-101fb7a0f9c9",
   "metadata": {},
   "outputs": [],
   "source": [
    "IMAGE_PATH = 'raw-dataset/{}/{:05d}/resized_page.png'\n",
    "LABEL_PATH = 'raw-dataset/{}/{:05d}/label_cleaned.csv'\n",
    "MODEL_PATH = '../lib/nameh-khan/nameh_khan/page_reader/plain_text_page/model.pth'"
   ]
  },
  {
   "cell_type": "markdown",
   "id": "28616afd-1ffc-4c53-a0a7-e609a778fc7d",
   "metadata": {},
   "source": [
    "## Loading Model"
   ]
  },
  {
   "cell_type": "code",
   "execution_count": 5,
   "id": "bb3764cd-998a-4dff-82cd-42ceb7a9f176",
   "metadata": {},
   "outputs": [
    {
     "data": {
      "text/plain": [
       "<All keys matched successfully>"
      ]
     },
     "execution_count": 5,
     "metadata": {},
     "output_type": "execute_result"
    }
   ],
   "source": [
    "model = WordReader()\n",
    "model.load_state_dict(torch.load(MODEL_PATH, map_location=torch.device('cpu'), weights_only=False))"
   ]
  },
  {
   "cell_type": "markdown",
   "id": "da39e374-148c-468d-8068-622234418def",
   "metadata": {},
   "source": [
    "## Evaluation"
   ]
  },
  {
   "cell_type": "code",
   "execution_count": 6,
   "id": "02d0e31b-7d91-4561-8ef1-905ab6e67e5b",
   "metadata": {},
   "outputs": [
    {
     "name": "stdout",
     "output_type": "stream",
     "text": [
      "Page: 00001 \t\t Precision: 0.412\n",
      "Page: 00002 \t\t Precision: 0.406\n",
      "Page: 00003 \t\t Precision: 0.396\n",
      "Page: 00004 \t\t Precision: 0.423\n",
      "Page: 00005 \t\t Precision: 0.427\n",
      "Page: 00006 \t\t Precision: 0.367\n",
      "Page: 00007 \t\t Precision: 0.399\n",
      "Page: 00008 \t\t Precision: 0.405\n",
      "Page: 00009 \t\t Precision: 0.332\n",
      "Page: 00010 \t\t Precision: 0.382\n",
      "Page: 00011 \t\t Precision: 0.383\n",
      "Page: 00012 \t\t Precision: 0.341\n",
      "Page: 00013 \t\t Precision: 0.425\n",
      "Page: 00014 \t\t Precision: 0.387\n",
      "Page: 00015 \t\t Precision: 0.408\n",
      "Page: 00016 \t\t Precision: 0.356\n",
      "Page: 00017 \t\t Precision: 0.376\n",
      "Page: 00018 \t\t Precision: 0.396\n",
      "Page: 00019 \t\t Precision: 0.351\n",
      "Page: 00020 \t\t Precision: 0.335\n",
      "\n",
      "Total Precision: 0.386\n"
     ]
    }
   ],
   "source": [
    "total_num_of_words = 0\n",
    "total_num_of_correct_words = 0\n",
    "\n",
    "for i in range(1, NUM_OF_PAGES + 1):\n",
    "    page_num_of_words = 0\n",
    "    page_num_of_correct_words = 0\n",
    "\n",
    "    image = cv2.imread(IMAGE_PATH.format(FONT, i), flags=cv2.IMREAD_GRAYSCALE).astype('float32')/255\n",
    "    label_pdf = pd.read_csv(LABEL_PATH.format(FONT, i))\n",
    "\n",
    "    for idx in range(len(label_pdf)):\n",
    "        sub_image = image[\n",
    "            int(label_pdf.iloc[idx].y1): int(label_pdf.iloc[idx].y2), \n",
    "            int(label_pdf.iloc[idx].x1): int(label_pdf.iloc[idx].x2)\n",
    "        ]\n",
    "        predicted_word = model.transform(sub_image)\n",
    "        correct_word = label_pdf.iloc[idx].word\n",
    "    \n",
    "        page_num_of_words += 1\n",
    "        page_num_of_correct_words += int(predicted_word == correct_word)\n",
    "\n",
    "        if DEBUG: \n",
    "            print('Page: {} \\t Idx: {} \\t\\t Prediction: {} \\t True: {}'.format(i, idx, predicted_word, correct_word))\n",
    "\n",
    "    print('Page: {:05d} \\t\\t Precision: {:.03f}'.format(i, page_num_of_correct_words/page_num_of_words))\n",
    "    total_num_of_words += page_num_of_words\n",
    "    total_num_of_correct_words += page_num_of_correct_words\n",
    "\n",
    "print('\\nTotal Precision: {:.03f}'.format(total_num_of_correct_words/total_num_of_words))"
   ]
  }
 ],
 "metadata": {
  "kernelspec": {
   "display_name": "Python 3 (ipykernel)",
   "language": "python",
   "name": "python3"
  },
  "language_info": {
   "codemirror_mode": {
    "name": "ipython",
    "version": 3
   },
   "file_extension": ".py",
   "mimetype": "text/x-python",
   "name": "python",
   "nbconvert_exporter": "python",
   "pygments_lexer": "ipython3",
   "version": "3.9.12"
  }
 },
 "nbformat": 4,
 "nbformat_minor": 5
}
