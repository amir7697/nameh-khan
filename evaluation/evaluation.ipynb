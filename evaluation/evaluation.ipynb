{
 "cells": [
  {
   "cell_type": "markdown",
   "id": "3bf2c31f-c3b5-44a4-8041-eb8d8c622993",
   "metadata": {},
   "source": [
    "## Initialization"
   ]
  },
  {
   "cell_type": "code",
   "execution_count": 1,
   "id": "8a790cdd-f115-47fb-aec4-d06f178327a1",
   "metadata": {},
   "outputs": [],
   "source": [
    "import sys\n",
    "\n",
    "sys.path.append('../lib/nameh-khan')"
   ]
  },
  {
   "cell_type": "markdown",
   "id": "4e54e52d-4ec1-4a8d-8fc9-b41e06be7339",
   "metadata": {},
   "source": [
    "## Import "
   ]
  },
  {
   "cell_type": "code",
   "execution_count": 2,
   "id": "1194d399-0909-4a26-888b-118f8b3c4526",
   "metadata": {},
   "outputs": [],
   "source": [
    "import cv2\n",
    "import numpy as np\n",
    "import matplotlib.pyplot as plt\n",
    "\n",
    "from jiwer import wer\n",
    "\n",
    "from nameh_khan.page_reader.plain_text_page import PlainTextPageReader"
   ]
  },
  {
   "cell_type": "markdown",
   "id": "01cae2e2-f27f-41a7-82ae-a58ba57d7299",
   "metadata": {},
   "source": [
    "## Data Path"
   ]
  },
  {
   "cell_type": "code",
   "execution_count": 3,
   "id": "5d8e75d8-1e9e-4ac6-a9ee-2058d58993da",
   "metadata": {},
   "outputs": [],
   "source": [
    "BASE_DIR = '../training/raw-data/Arshasb_7k/'\n",
    "\n",
    "IMAGE_PATH_TEMPLATE = BASE_DIR + '{0:05d}/page_{0:05d}.png'\n",
    "FULL_TEXT_PATH_TEMPLATE = BASE_DIR + '{0:05d}/fulltext_{0:05d}.txt'"
   ]
  },
  {
   "cell_type": "markdown",
   "id": "4190af6c-de2d-4721-8f39-dd2a76761342",
   "metadata": {},
   "source": [
    "## Evaluation"
   ]
  },
  {
   "cell_type": "code",
   "execution_count": 4,
   "id": "2c7803f2-232e-4793-9af8-4ef0f7956d8f",
   "metadata": {},
   "outputs": [
    {
     "name": "stdout",
     "output_type": "stream",
     "text": [
      "WER: 0.060\n"
     ]
    }
   ],
   "source": [
    "page_reader = PlainTextPageReader()\n",
    "wer_list = []\n",
    "\n",
    "for i in range(6500, 6600):\n",
    "    with open(FULL_TEXT_PATH_TEMPLATE.format(i, i), 'r') as f:\n",
    "        reference_text = f.read()\n",
    "    \n",
    "    image = cv2.imread(IMAGE_PATH_TEMPLATE.format(i, i))\n",
    "    output_text = page_reader.transform(image)\n",
    "    wer_list.append(wer(reference_text, output_text))\n",
    "\n",
    "print('WER: {:.03f}'.format(np.array(wer_list).mean()))"
   ]
  }
 ],
 "metadata": {
  "kernelspec": {
   "display_name": "Python 3 (ipykernel)",
   "language": "python",
   "name": "python3"
  },
  "language_info": {
   "codemirror_mode": {
    "name": "ipython",
    "version": 3
   },
   "file_extension": ".py",
   "mimetype": "text/x-python",
   "name": "python",
   "nbconvert_exporter": "python",
   "pygments_lexer": "ipython3",
   "version": "3.9.12"
  }
 },
 "nbformat": 4,
 "nbformat_minor": 5
}
