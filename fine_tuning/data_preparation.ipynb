{
 "cells": [
  {
   "cell_type": "markdown",
   "id": "ad29ef55-3ed5-47d0-85c0-fa7492bfe03f",
   "metadata": {},
   "source": [
    "## Import "
   ]
  },
  {
   "cell_type": "code",
   "execution_count": 1,
   "id": "03b3e1b3-ab10-48ce-ac94-2b918f994f63",
   "metadata": {},
   "outputs": [],
   "source": [
    "import cv2 as cv\n",
    "import numpy as np\n",
    "import os\n",
    "import pandas as pd"
   ]
  },
  {
   "cell_type": "markdown",
   "id": "948a4088-ad5a-4559-abb9-cfe94d36bbf1",
   "metadata": {},
   "source": [
    "## Config"
   ]
  },
  {
   "cell_type": "code",
   "execution_count": 17,
   "id": "9d11734a-3587-43ad-9c4e-0b13505864bd",
   "metadata": {},
   "outputs": [],
   "source": [
    "FONT = 'nazanin'\n",
    "NUM_OF_PAGES = 20\n",
    "MAX_RANDOM_HORIZONTAL_SHIFT_AMOUNT = 1\n",
    "MAX_RANDOM_VERTICAL_SHIFT_AMOUNT = 1"
   ]
  },
  {
   "cell_type": "markdown",
   "id": "4aedc0c0-18e3-4dee-9a63-ed3d0952f8ff",
   "metadata": {},
   "source": [
    "## Data Path"
   ]
  },
  {
   "cell_type": "code",
   "execution_count": 5,
   "id": "c13e1427-6a47-471a-b464-9cbb9867d203",
   "metadata": {},
   "outputs": [],
   "source": [
    "INPUT_ROOT_DIR = 'raw-dataset/{}'.format(FONT)\n",
    "os.makedirs(INPUT_ROOT_DIR, exist_ok=True)\n",
    "\n",
    "IMAGE_PATH_TEMPLATE = INPUT_ROOT_DIR + '/{0:05d}/resized_page.png'\n",
    "LABEL_PATH_TEMPLATE = INPUT_ROOT_DIR + '/{0:05d}/label_cleaned.csv'\n",
    "\n",
    "OUTPUT_ROOT_DIR = 'dataset/{}'.format(FONT)\n",
    "os.makedirs(OUTPUT_ROOT_DIR + '/images', exist_ok=True)\n",
    "OUTPUT_IMAGE_PATH = OUTPUT_ROOT_DIR + '/images/{}.png'\n",
    "OUTPUT_METADATA_PATH = OUTPUT_ROOT_DIR + '/metadata.csv'"
   ]
  },
  {
   "cell_type": "markdown",
   "id": "a67d67e8-a889-48d0-92ce-898789ea7423",
   "metadata": {},
   "source": [
    "## Main"
   ]
  },
  {
   "cell_type": "code",
   "execution_count": 21,
   "id": "8e415f50-7a7c-450b-8105-b1091fc502db",
   "metadata": {},
   "outputs": [],
   "source": [
    "dataset = []\n",
    "\n",
    "for i in range(NUM_OF_PAGES):\n",
    "    image_path = IMAGE_PATH_TEMPLATE.format(i+1)\n",
    "    label_path = LABEL_PATH_TEMPLATE.format(i+1)\n",
    "\n",
    "    image = cv.imread(image_path, cv.IMREAD_GRAYSCALE)\n",
    "    label_pdf = pd.read_csv(label_path)\n",
    "\n",
    "    for row in label_pdf.iterrows():\n",
    "        dataset.append({\n",
    "            'label': row[1].word,\n",
    "            'image': image[\n",
    "                slice(\n",
    "                    row[1].y1 + np.random.randint(-MAX_RANDOM_VERTICAL_SHIFT_AMOUNT, MAX_RANDOM_VERTICAL_SHIFT_AMOUNT),\n",
    "                    row[1].y2 + np.random.randint(-MAX_RANDOM_VERTICAL_SHIFT_AMOUNT, MAX_RANDOM_VERTICAL_SHIFT_AMOUNT)\n",
    "                ), \n",
    "                slice(\n",
    "                    row[1].x1 + np.random.randint(-MAX_RANDOM_HORIZONTAL_SHIFT_AMOUNT, MAX_RANDOM_HORIZONTAL_SHIFT_AMOUNT),\n",
    "                    row[1].x2 + np.random.randint(-MAX_RANDOM_HORIZONTAL_SHIFT_AMOUNT, MAX_RANDOM_HORIZONTAL_SHIFT_AMOUNT)\n",
    "                )\n",
    "            ]\n",
    "        })\n",
    "\n",
    "metadata_dict = {'id': [], 'label': []}\n",
    "for i in range(len(dataset)):\n",
    "    if min(dataset[i]['image'].shape) > 0:\n",
    "        metadata_dict['id'].append(i)\n",
    "        metadata_dict['label'].append(dataset[i]['label'])\n",
    "        response = cv.imwrite(OUTPUT_IMAGE_PATH.format(i), dataset[i]['image'])\n",
    "        if not response:\n",
    "            print('Failure in writing image with label: {}'.format(dataset[i]['label']))\n",
    "\n",
    "metadata_pdf = pd.DataFrame(metadata_dict)\n",
    "metadata_pdf.to_csv(OUTPUT_METADATA_PATH, index=False)"
   ]
  }
 ],
 "metadata": {
  "kernelspec": {
   "display_name": "Python 3 (ipykernel)",
   "language": "python",
   "name": "python3"
  },
  "language_info": {
   "codemirror_mode": {
    "name": "ipython",
    "version": 3
   },
   "file_extension": ".py",
   "mimetype": "text/x-python",
   "name": "python",
   "nbconvert_exporter": "python",
   "pygments_lexer": "ipython3",
   "version": "3.9.12"
  }
 },
 "nbformat": 4,
 "nbformat_minor": 5
}
